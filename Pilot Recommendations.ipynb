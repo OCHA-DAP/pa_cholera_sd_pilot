{
 "cells": [
  {
   "cell_type": "markdown",
   "source": [
    "# Recommendations for Cholera Response Simulator pilot"
   ],
   "metadata": {}
  },
  {
   "cell_type": "markdown",
   "source": [
    "## Table of contents\n",
    "* [General recommendations](#gracc)\n",
    "* [The Cholera Response Simulator: background](#crs)\n",
    "* [Testing cholera response plans to maximize impact](#impact)\n",
    "* [Partners and stakeholders](#partners)\n",
    "* [Roadmap](#roadmap)\n",
    "* [Model components](#modelcomp)\n",
    "* [Data availability](#data)\n",
    "* [Risks and mitigation strategies](#risks)"
   ],
   "metadata": {}
  },
  {
   "cell_type": "markdown",
   "source": [
    "## General recommendations <a class=\"anchor\" id=\"gracc\"></a>\n",
    "In many humanitarian contexts, the number of people in need of humanitarian assistance can fluctuate rather dramatically over short time scales, for example, as a result of sudden shocks (e.g., escalations in armed conflict) or seasonal environmental phenomena (e.g., floods). Complementing current needs assessments with methods that can describe and predict these dynamic trends, and model their underlying causes is key to developing response plans that can more effectively address the needs of affected communities. <br>\n",
    "\n",
    "Complex systems modeling methods are a class of methods that make it possible to do this. The 2021 Predictive Analytics Data Fellowship report presents the results of research on which methods and problem spaces would be best suited to introducing complex systems modeling in the humanitarian sector.\n",
    "\n",
    "Research suggested that piloting the development of a System Dynamics **Cholera Response Simulator** would be a promising problem space for a first pilot coordinated by the Predictive Analytics Team. It is advidsed to consider initially tailoring the model to Yemen, given the severity of recent outbreaks and the scale of the humanitarian crisis in the country, to then later potentially adapt the model to other contexts. Should conditions prove too challenging to pilot model development for Yemen, contexts such as DRC and Mozambique could be explored as an alternative."
   ],
   "metadata": {}
  },
  {
   "cell_type": "markdown",
   "source": [
    "## The Cholera Response Simulator: background <a class=\"anchor\" id=\"crs\"></a>"
   ],
   "metadata": {}
  },
  {
   "cell_type": "markdown",
   "source": [
    "Cholera is an infection of the small intestine caused by ingestion of food or water contaminated with the bacterium Vibrio cholerae (https://www.who.int/news-room/fact-sheets/detail/cholera). In some cases, cholera infections can cause severe symptoms such as acute watery diarrhea (AWD) and, if untreated, they can lead to death by dehydration over the course of just a few hours.\n",
    "\n",
    "Cholera is often defined as “a disease of inequity”, as it impacts communities which lack basic commodities such as access to safe drinking water, basic sanitation and health infrastructure (https://www.who.int/news-room/feature-stories/detail/prevention-for-a-cholera-free-world). Conflict is an additional risk factor. In contexts of acute armed conflict, access to clean water, health facilities, and sanitation infrastructure is jeopardized, and cholera monitoring, treatment, and prevention can become challenging.\n",
    "\n",
    "Cholera has been eliminated from the developed world decades ago, but it is still present in 47 countries. Each year, there are an estimated 1.3 to 4.0 million cholera cases worldwide (https://www.gtfcc.org/about-cholera/). Yemen, a country plagued by one of the world’s worst humanitarian crises, has been affected by some of the most violent cholera outbreaks. More than 2.5m cases and over 4000 deaths have been reported since October 2016 (https://reliefweb.int/report/yemen/cholera-situation-yemen-december-2020).\n",
    "\n",
    "<img src=\"figures/geo_plot_cases.png\" style=\"width: 80%; height: 80%;\">\n",
    "<center>*Figure 1: Incidence of cholera in Yemen between 2019 and 2021 (data from ACAPS 2021 Crisis InSight dataset).*<center>\n",
    "\n",
    "<img src=\"figures/cases.png\" style=\"width: 80%; height: 80%\">\n",
    "<center>*Figure 2a: Number of monthly cholera cases in Yemen between 2017 and 2020 (country-wide).*<center>\n",
    "\n",
    "<img src=\"figures/cases_top4gvt.png\" style=\"width: 80%; height: 80%\">\n",
    "<center>*Figure 2b: Number of monthly cholera cases in four high-incidence governorates.*<center>\n",
    "\n",
    "Given the scale of the crisis, tackling cholera is a key humanitarian priority. Humanitarian organizations, health organizations, research institutes, and donors have partnered in the creation of the Global Task Force on Cholera Control (GTFCC), whose objective is to reduce cholera cases by 90 percent and eliminate cholera in up to 20 countries by 2030 (Roadmap 2030, https://www.gtfcc.org/cholera-roadmap-research-agenda/). To achieve this, the GTFCC has laid out a comprehensive and multisectoral intervention plan which focuses on measures aimed at strengthening the healthcare system in affected countries, improving WASH infrastructure, improving cholera surveillance and reporting, extending access to oral cholera vaccinations (OCVs), and promoting preventive behaviors in communities at risk. Developing tools that make it possible to understand how, where, and when these interventions should be implemented to maximize their impact should be the focus of the Cholera Response Simulator pilot.\n",
    "\n"
   ],
   "metadata": {}
  },
  {
   "cell_type": "markdown",
   "source": [
    "## Testing cholera response plans to maximize impact <a class=\"anchor\" id=\"impact\"></a>"
   ],
   "metadata": {}
  },
  {
   "cell_type": "markdown",
   "source": [
    "Predictive models that forecast the dynamics of cholera based on epidemiological parameters (e.g., reproduction rate, death rate, and recovery rates) and environmental factors (e.g, rainfalls and temperatures) have been developed over the past years. otable example are the Cholera Risk Model (CRM) developed by a team of experts from University of Florida, University of Maryland, and the UK MET Office (see: https://www.metoffice.gov.uk/binaries/content/assets/metofficegovuk/pdf/business/international/summary_of_the_yemen_case_study.pdf), and the ESA cholera risk model (see: https://www.esa.int/Applications/Observing_the_Earth/Space_for_our_climate/Cholera_outbreaks_predicted_using_climate_data_and_AI, https://www.mdpi.com/1660-4601/17/24/9378). However, these models are only based on environmental factors, and do not allow end users to simulate response strategies, nor do they explain the decoupling between incidence and environmental factors observed after 2017 (probably as an effect of interventions). <br>\n",
    "\n",
    "<img src=\"figures/yemen_cases+env.png\" style=\"width: 80%; height: 80%\">\n",
    "<center>*Figure 3: Normalized number of cases for 2017-2020 in Yemen (country-wide) plotted against rainfall and temperature.*<center>\n",
    "\n",
    "\n",
    "<img src=\"figures/yemen_cases+env_top4gvt.png\" style=\"width: 80%; height: 80%\">\n",
    "<center>*Figure 4: Normalized number of cases in four governorate with high cholera incidence, plotted against rainfall and temperature (these latter at country level).*<center>\n",
    "\n",
    "\n",
    "The system dynamics Cholera Response Simulator will build on the epidemiological and environmental components of these models, but its goal will be distinct from theirs. Emphasis should in fact be placed on testing the effectiveness of different implementations of the cholera response plans outlined in the GTFCC’s Roadmap in limiting the spread of the disease and associated mortality. The output will not be a cholera forecasting tool, but **a simulation tool that can provide practical guidance on how and when different types of interventions should be implemented for maximal impact**."
   ],
   "metadata": {}
  },
  {
   "cell_type": "markdown",
   "source": [
    "## Partners and stakeholders <a class=\"anchor\" id=\"partners\"></a>"
   ],
   "metadata": {}
  },
  {
   "cell_type": "markdown",
   "source": [
    "The development of the Cholera Response Simulator should be conducted in close collaboration with domain experts, technical experts (e.g., a System Dynamics modelers), and humanitarian actors operating in the area of interest, each providing the input and expertise needed to inform the structure of the model, and to implement and validate it. Given the complexities intrinsic to systems modeling and the iterative nature of the model development process, the pilot is likely to span several months, and to require substantial commitment from the Predictive Analytics Team in terms of providing coordination between actors, contributing to model design, and providing modelers with the resources needed to validate the model.\n",
    "\n",
    "Existing collaboration platforms (such as the GTFCC, or the consortium already in place for cholera-related Anticipatory Action) may prove useful to establish partnerships and identify collaborators. The PA Team may consider conducting further interviews with technical experts interviewed during the course of the fellowship, such as Professor Birgit Kopainsky (System Dynamics Professor at University of Bergen), Matteo Pedercini (Vice President and Chief Operating Officer at Millennium Institute), Khaled Gaafar (System Dynamics expert at IDMC), and Justin Ginnetti (Senior Officer, Information Management and Risk Analysis, IFRC) for input on suitable technical partners.\n",
    "\n",
    "Support and direct engagement of OCHA Field Offices in the area of interest is needed to conduct the pilot. Preliminary interviews with OCHA Yemen Staff suggest that a pilot focusing on Yemen is likely to be met by interest and strong support. The PA Team should conduct further interviews to receive feedback on the initial plan for the present pilot, to identify and connect with all relevant local actors (e.g., from the WASH cluster, from UNICEF, which has had a key role in implementing cholera response since 2017, and from NGOs supporting data collection and needs assessment, such as ACAPS and REACH), as well as to identify specific governorates to focus on for preliminary stages of the pilot.\n"
   ],
   "metadata": {}
  },
  {
   "cell_type": "markdown",
   "source": [
    "## Roadmap <a class=\"anchor\" id=\"roadmap\"></a>"
   ],
   "metadata": {}
  },
  {
   "cell_type": "markdown",
   "source": [
    "The pilot should unfold along the following steps (which reflect steps outlined in the Data Fellowship final report):\n",
    "- **Refining model goals and outputs**: once core partners and stakeholders have been identified, the goals of the model and its outputs (i.e., is it overall number of cases that should be predicted and minimized? Which target areas should the pilot focus on?) should be refined in collaboration with all relevant actors (e.g., through a combination of iterative cycles of interviews and joint events);\n",
    "- **Defining responses to be tested**: modelers and the PA Team should identify a set of responses (e.g., OCVs, WASH interventions, etc.) the model should be able to simulate (and how). For this step, it is necessary to interact with actors involved in coordinating response in 2018 (e.g., UNICEF + potentially other WASH actors). It would be desirable to define a number of alternative response plans involving combinations of those interventions and delays, which the model could simulate and whose effectiveness can be assessed based on model outputs;\n",
    "- **Refining model boundaries**: modelers and other stakeholders should interact to define which variables should (and can) be included in the model (literature review, workshops, and iterative prototyping are the tools for this step);\n",
    "- **Formulating a causal loop diagram and a stock and flow diagram**: this knowledge should be systematized by modelers into a causal loop diagram and a stock and flow diagram (first prototype). The prototype should be validated against historical data. We suggest to focus on validating whether the model prototype is able to:\n",
    "    - Reproduce trends for cholera infections and deaths in 2017;\n",
    "    - Evaluate the effect of 2018 OCV and WASH interventions on cholera incidence;\n",
    "The resulting model should be presented to partners and stakeholders, and collaboratively and iteratively refined based on partners’ expertise, until actors converge on a shared dynamic hypothesis.\n",
    "- **Identify data needs and gather data**: the PA Team should gather an initial batch of data to validate the first model prototypes. For this step, if preprocessing of publicly available resources is not sufficient, it may be necessary to request access to more detailed data from WASH clusters or other agencies responsible for data management. \n",
    "For a pilot centered on Yemen, initial validation could focus on the 2017 and 2018 outbreaks, and data should include:\n",
    "    - *Monthly estimates of cholera cases and deaths* for 2017-2018 at Governorate level;\n",
    "    - Data on *WASH indicators and interventions* for 2017-2018, e.g., data on:\n",
    "        - Chlorine tablet distribution;\n",
    "        - Distribution of Consumable Hygiene Kits;\n",
    "        - Provision of water disinfecting agents for batch treatment;\n",
    "        - Interventions targeting the rehabilitation of the water supply scheme;\n",
    "        - Provision of chlorinated water trucking to communities and jails;\n",
    "        - Rapid test capacity;\n",
    "        - Number and capacity of diarrhoea treatment centres (DTC) and oral rehabilitation centres (ORC);\n",
    "        - Number of OCVs administered; \n",
    "    - Data on *cholera-related responses* implemented in 2018 (which are hypothesized to have determined the lower incidence observed in 2018 compared to 2017);\n",
    "- **Independent panel validation**: the model should then be evaluated by an independent expert panel (along the guidelines provided by the Centre’s Peer Review Framework);\n",
    "- **(optional) Further data collection**: the team may decide to try to gain access to more data for more accurate model estimation and final validation (e.g., additional variables, or data at better spatial or temporal granularity);\n",
    "- **Quantitative estimation and validation**: The model should then be validated quantitatively, and, if needed, iteratively refined to improve performance performance. To make sure that iterative adjustments do not result in overfitting, the final validation should be conducted against an independent, unseen dataset (either from the same target areas, or from different governorates or countries for generalizability);\n",
    "- **Development of user interfaces**: model deployment can be facilitated by developing intuitive user interfaces (e.g., in Stella, or, if deemed more suitable, in other frameworks). Stakeholders involved in cholera response planning should be involved in providing feedback to this step, to evaluate whether the model and interfaces can be practically deployment for decision making;\n",
    "- **User training and deployment**: at this stage, the model is ready to be deployed. Documentation for model use should be developed, and the model should be presented to end users, highlighting both affordances and limitations."
   ],
   "metadata": {}
  },
  {
   "cell_type": "markdown",
   "source": [
    "## Model components <a class=\"anchor\" id=\"modelcomp\"></a>"
   ],
   "metadata": {}
  },
  {
   "cell_type": "markdown",
   "source": [
    "Based on preliminary interviews with system dynamics experts, the model should include, at its minimum, three main components:\n",
    "1. **An epidemiological module**, that is, an SIR component modeling the epidemiological dynamics of the disease. This components may be developed starting from existing system dynamics cholera models (such as https://www.emerald.com/insight/content/doi/10.1108/JHLSCM-07-2020-0063/full/html and https://proceedings.systemdynamics.org/2009/proceed/papers/P1357.pdf); \n",
    "2. **An environmental module**, modeling the effect of relevant environmental variables such as temperature and rainfalls. Development of this component can closely follow (if not entirely mirror) the CRM model referenced above;\n",
    "3. **Response variables**, modeling how interventions affect cholera incidence. There is no previous literature directly targeting this problem. Close collaboration between modelers and technical experts is therefore crucial to developing this component.\n"
   ],
   "metadata": {}
  },
  {
   "cell_type": "markdown",
   "source": [
    "## Data availability <a class=\"anchor\" id=\"data\"></a>"
   ],
   "metadata": {}
  },
  {
   "cell_type": "markdown",
   "source": [
    "For a focus on Yemen, it is important to consider that the potential impact of the project may be significantly affected by humanitarian access, and, consequently, data availability, being very limited for large portions of the country. Very few datasets on epidemiological variables, WASH indicators, and interventions are currently available on public platforms. \n",
    "\n",
    "HDX hosts a high-quality dataset reporting monthly Governorate-level estimates of cholera incidence, and a number of other relevant humanitarian indicators (https://data.humdata.org/dataset/yemen-crisisinsight-core-dataset-2021). This dataset, however, only covers 2019 and 2021. Data for 2017 and 2018 for the same variables are either only partly available, or fully lacking. Accessing data for this period is crucial for the pilot. Data on response activities is also sparse, and currently only available at unsuitable levels of aggregation (e.g., as part of humanitarian reports). \n",
    "\n",
    "One potentially useful resource for data is [this dashboard](https://app.powerbi.com/view?r=eyJrIjoiNTY3YmU0NTItMmFjYy00OTUxLWI2NzEtOTU5N2Q0MDBjMjE5IiwidCI6ImI3ZTNlYmJjLTE2ZTctNGVmMi05NmE5LTVkODc4ZDg3MDM5ZCIsImMiOjl9) (suggested by ACAPS), and data from the WASH cluster (https://reach-info.org/yem/).\n",
    "\n",
    "Establishing contact with actors in the field (OCHA Field Staff, UNICEF Yemen staff, ACAPS, REACH) could be useful to gain access to more resources. Gaining access to data on interventions (e.g., vaccinations) is especially important. Attempts to use IATI proxies for interventions were not deemed very promising (see Figure 5). Descriptions are often not specific enough to track the location and exact type of intervention. Vaccine-related data in the plot below, for example, are probably not specific to cholera, and they only cover very few activities.\n",
    "\n",
    "<img src=\"figures/IATI.png\" style=\"width: 80%; height: 80%\">\n",
    "<center>*Figure 5: Funding for activities labeled as WASH, for activities mentioning \"cholera\" in their description, and for activities mentioning cholera and \"vaccine\"/\"vaccination(s)\" between 2017 and 2018. Data were extracted from https://d-portal.org/ctrack.html#view=search, filtering by country=Yemen and year range 2017-2018.*<center>\n",
    "\n",
    "\n",
    "\n",
    "Depending on the final structure of the model, data on other variables will be required to develop and validate the model (e.g., governorate-level population and IDP estimates, information on armed conflict events, information on humanitarian access per governorate, data on health facilities and infrastructure). For those of these variables which are not core components of the model, lower-resolution estimates from publicly available datasets or imputed data may be suitable proxies.\n"
   ],
   "metadata": {}
  },
  {
   "cell_type": "markdown",
   "source": [
    "## Risks and mitigation strategies <a class=\"anchor\" id=\"risks\"></a>"
   ],
   "metadata": {}
  },
  {
   "cell_type": "markdown",
   "source": [
    "It is worth noting that, should resources ultimately prove insufficient for quantitative estimation, the development of a qualitative dynamic hypothesis may prove impactful in itself. Agreeing upon a shared representation of potential entry points for intervention can per se inform response, as well as foster trust and collaboration between stakeholders. However, if quantitative estimation is deemed a priority but data on Yemen is insufficient, the PA Team may decide to shift the focus of the pilot to countries where challenges to humanitarian access are less severe. Mozambique or DRC may be suitable target areas.\n",
    "\n",
    "A more severe risk is failure in the formulation of an agreed-upon dynamic hypothesis. Should this be the case, the PA Team should evaluate if the reasons behind failure are likely to generalize to other problem spaces suggested in Table 1 of the present report, and may consider exploring those where the risk is less severe. \n",
    "\n",
    "Finally, another risk to consider is that of fully developed and validated models not being actively deployed for response planning. Involvement of end users at all stages of model development, adequate training, and support in the initial stages of deployment is the key mitigation strategy here.\n",
    "All in all, it is worth considering that the long-term potential impact of the pilots is likely to outweigh the risk and challenges involved in the process."
   ],
   "metadata": {}
  },
  {
   "cell_type": "code",
   "execution_count": null,
   "source": [],
   "outputs": [],
   "metadata": {}
  }
 ],
 "metadata": {
  "orig_nbformat": 4,
  "language_info": {
   "name": "python"
  }
 },
 "nbformat": 4,
 "nbformat_minor": 2
}